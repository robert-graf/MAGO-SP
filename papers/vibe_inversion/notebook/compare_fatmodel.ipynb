{
 "cells": [
  {
   "cell_type": "markdown",
   "metadata": {},
   "source": [
    "# Magnitude-intrinsic water-fat ambiguity can be resolved with multipeak fat modeling and a multipoint search method."
   ]
  },
  {
   "cell_type": "code",
   "execution_count": null,
   "metadata": {},
   "outputs": [],
   "source": [
    "import sys\n",
    "from pathlib import Path\n",
    "\n",
    "import matplotlib.pyplot as plt\n",
    "import numpy as np\n",
    "from PIL import Image\n",
    "from TPTBox import to_nii,NII\n",
    "\n",
    "sys.path.append(\"..\")\n",
    "sys.path.append(\"../../..\")\n",
    "\n",
    "from recon_mevibe import ti_ms_default,freqs_ppm,alpha_p\n",
    "from mago_sp import magorino\n",
    "## TODO Update file paths\n",
    "# Load files\n",
    "\n",
    "# Input\n",
    "path = Path(\"/media/data/NAKO/dataset-nako/rawdata/100/100000/mevibe/\")\n",
    "s_0 = path / \"sub-100000_sequ-53_acq-ax_part-eco0-opp1_mevibe.nii.gz\"\n",
    "s_1 = path / \"sub-100000_sequ-54_acq-ax_part-eco1-pip1_mevibe.nii.gz\"\n",
    "s_2 = path / \"sub-100000_sequ-55_acq-ax_part-eco2-opp2_mevibe.nii.gz\"\n",
    "s_3 = path / \"sub-100000_sequ-56_acq-ax_part-eco3-in1_mevibe.nii.gz\"\n",
    "s_4 = path / \"sub-100000_sequ-57_acq-ax_part-eco4-pop1_mevibe.nii.gz\"\n",
    "s_5 = path / \"sub-100000_sequ-58_acq-ax_part-eco5-arb1_mevibe.nii.gz\"\n",
    "# Target output\n",
    "use_target = True\n",
    "water_file = path / \"sub-100000_sequ-59_acq-ax_part-water_mevibe.nii.gz\"\n",
    "fat_file = path / \"sub-100000_sequ-63_acq-ax_part-fat_mevibe.nii.gz\"\n",
    "r2s_file = path / \"sub-100000_sequ-61_acq-ax_part-r2s_mevibe.nii.gz\" # Note in our example we have to multiply with 0.1 to get the actual value\n",
    "\n",
    "\n"
   ]
  },
  {
   "cell_type": "code",
   "execution_count": 2,
   "metadata": {},
   "outputs": [],
   "source": [
    "\n",
    "#path = Path(\"/media/data/NAKO/dataset-nako/rawdata/101/101000/mevibe/\")\n",
    "## Input\n",
    "#s_0 = path / \"sub-101000_sequ-53_acq-ax_part-eco0-opp1_mevibe.nii.gz\"\n",
    "#s_1 = path / \"sub-101000_sequ-54_acq-ax_part-eco1-pip1_mevibe.nii.gz\"\n",
    "#s_2 = path / \"sub-101000_sequ-55_acq-ax_part-eco2-opp2_mevibe.nii.gz\"\n",
    "#s_3 = path / \"sub-101000_sequ-56_acq-ax_part-eco3-in1_mevibe.nii.gz\"\n",
    "#s_4 = path / \"sub-101000_sequ-57_acq-ax_part-eco4-pop1_mevibe.nii.gz\"\n",
    "#s_5 = path / \"sub-101000_sequ-58_acq-ax_part-eco5-arb1_mevibe.nii.gz\"\n",
    "## Target output\n",
    "#use_target = True\n",
    "#water_file = path / \"sub-101000_sequ-59_acq-ax_part-water_mevibe.nii.gz\"\n",
    "#fat_file = path / \"sub-101000_sequ-60_acq-ax_part-fat_mevibe.nii.gz\"\n",
    "#r2s_file = path / \"sub-101000_sequ-62_acq-ax_part-r2s_mevibe.nii.gz\" # Note in our example we have to multiply with 0.1 to get the actual value"
   ]
  },
  {
   "cell_type": "markdown",
   "metadata": {},
   "source": [
    "MRI parameter:\n",
    "\n",
    "- MagneticFieldStrength of the MRI device\n",
    "- time_inversion in ms in the the same order as the $s_i$. See Dicom-Header."
   ]
  },
  {
   "cell_type": "code",
   "execution_count": null,
   "metadata": {},
   "outputs": [],
   "source": [
    "ti_ms = ti_ms_default\n",
    "MagneticFieldStrength=3.0\n",
    "print(f\"{ti_ms_default= } \\n{MagneticFieldStrength= }\")\n",
    "print('Fat model')\n",
    "print(f\"{alpha_p}\")\n",
    "print(f\"{freqs_ppm}\")"
   ]
  },
  {
   "cell_type": "code",
   "execution_count": 4,
   "metadata": {},
   "outputs": [],
   "source": [
    "\n",
    "# NOTE we select slice 30 to make the example faster.\n",
    "orientation = (\"I\",\"P\",\"L\")\n",
    "s_idx = -25\n",
    "magnitude_nii:list[NII] = [\n",
    "    to_nii(s_0).reorient(orientation)[s_idx:s_idx+1,:,:],\n",
    "    to_nii(s_1).reorient(orientation)[s_idx:s_idx+1,:,:],\n",
    "    to_nii(s_2).reorient(orientation)[s_idx:s_idx+1,:,:],\n",
    "    to_nii(s_3).reorient(orientation)[s_idx:s_idx+1,:,:],\n",
    "    to_nii(s_4).reorient(orientation)[s_idx:s_idx+1,:,:],\n",
    "    to_nii(s_5).reorient(orientation)[s_idx:s_idx+1,:,:],\n",
    "]\n",
    "magnitude = [a.get_array()[0] for a in magnitude_nii]\n",
    "if use_target:\n",
    "    water = to_nii(water_file).reorient(orientation).get_array()[s_idx]\n",
    "    fat = to_nii(fat_file).reorient(orientation).get_array()[s_idx]\n",
    "    r2s = to_nii(r2s_file).reorient(orientation).get_array()[s_idx] * 0.1"
   ]
  },
  {
   "cell_type": "code",
   "execution_count": null,
   "metadata": {},
   "outputs": [],
   "source": [
    "def save_jpg(data,name=\"output\",ending=\"jpg\"):\n",
    "    # Normalize to 0–255 for image representation\n",
    "    normalized_data = ((data - np.min(data)) / (np.max(data) - np.min(data)) * 255).astype(np.uint8)\n",
    "\n",
    "    # Convert to a PIL Image\n",
    "    image = Image.fromarray(normalized_data)\n",
    "\n",
    "    # Save as JPG\n",
    "    image.save(f\"{name}.{ending}\")\n",
    "\n",
    "    # Display in Jupyter notebook\n",
    "    plt.imshow(normalized_data, cmap='gray')\n",
    "    plt.axis('off')\n",
    "    plt.title(name.replace(\"_\",\" \"))\n",
    "    plt.show()\n",
    "if use_target:\n",
    "    save_jpg(water, name=\"reference_water_map\")"
   ]
  },
  {
   "cell_type": "code",
   "execution_count": null,
   "metadata": {},
   "outputs": [],
   "source": [
    "from recon_mevibe import multipeak_fat_model_smooth,multipeak_fat_model_from_guess\n",
    "from pipeline import predict_signal_prior\n",
    "def count_percent(pred,water,fat, seg=None):\n",
    "    if seg is None:\n",
    "        seg = np.array(water+fat >= 50)\n",
    "    total = seg.sum()\n",
    "    dif_w = np.abs(pred-water.astype(float))\n",
    "    dif_f = np.abs(pred-fat.astype(float))\n",
    "    res = np.zeros_like(dif_f)\n",
    "    res[dif_w<dif_f] = 1\n",
    "    res[seg != 1] = 0\n",
    "    print(res.sum(),total,res.sum()/total)\n",
    "    return (res.sum(),total,res.sum()/total, res)\n"
   ]
  },
  {
   "cell_type": "markdown",
   "metadata": {},
   "source": [
    "### Magnitude-intrinsic water-fat ambiguity can be resolved with multipeak fat modeling and a multipoint search method.\n",
    "\n",
    "Source: https://pmc.ncbi.nlm.nih.gov/articles/PMC6593794/"
   ]
  },
  {
   "cell_type": "code",
   "execution_count": 7,
   "metadata": {},
   "outputs": [],
   "source": [
    "#out_w, out_f, out_r, out_l = multipeak_fat_model_smooth(magnitude,smooth=False,rician_loss=False)\n",
    "#save_jpg(out_w, name=\"MAGO\")\n",
    "#count_percent(out_w,water,fat);"
   ]
  },
  {
   "cell_type": "code",
   "execution_count": 8,
   "metadata": {},
   "outputs": [],
   "source": [
    "\n",
    "#out_w, out_f, out_r, out_l = multipeak_fat_model_smooth(magnitude,smooth=True,rician_loss=False)\n",
    "#save_jpg(out_w, name=\"MAGO residual-smoothed\")"
   ]
  },
  {
   "cell_type": "code",
   "execution_count": 9,
   "metadata": {},
   "outputs": [],
   "source": [
    "#out_w, out_f, out_r, out_l = multipeak_fat_model_smooth(magnitude,smooth=False,rician_loss=True)\n",
    "#save_jpg(out_w, name=\"MAGORINO\")\n",
    "#count_percent(out_w,water,fat);\n"
   ]
  },
  {
   "cell_type": "code",
   "execution_count": null,
   "metadata": {},
   "outputs": [],
   "source": [
    "out_w, out_f, out_r, out_l = magorino(magnitude,smooth=False,sigma=16)\n",
    "save_jpg(out_w, name=\"MAGORINO\")\n",
    "count_percent(out_w,water,fat);\n"
   ]
  },
  {
   "cell_type": "code",
   "execution_count": null,
   "metadata": {},
   "outputs": [],
   "source": [
    "\n",
    "out_w, out_f, out_r, out_l = multipeak_fat_model_smooth(magnitude,smooth=True,rician_loss=True)\n",
    "save_jpg(out_w, name=\"MAGORINO residual-smoothed\")"
   ]
  },
  {
   "cell_type": "code",
   "execution_count": null,
   "metadata": {},
   "outputs": [],
   "source": [
    "\n",
    "pre = predict_signal_prior(magnitude_nii,\"prior.nii.gz\",gpu=0,ddevice=\"cuda\")\n",
    "save_jpg(to_nii(pre,False).get_array()[0], name=\"image2image prior\")"
   ]
  },
  {
   "cell_type": "code",
   "execution_count": null,
   "metadata": {},
   "outputs": [],
   "source": [
    "\n",
    "out_w, out_f, out_r, out_l = multipeak_fat_model_from_guess(magnitude,water,fat,MagneticFieldStrength=MagneticFieldStrength,ti_ms=ti_ms)\n",
    "save_jpg(out_w, name=\"ours_MAGORINO\")\n",
    "count_percent(out_w,water,fat)"
   ]
  },
  {
   "cell_type": "code",
   "execution_count": null,
   "metadata": {},
   "outputs": [],
   "source": [
    "out_w, out_f, out_r, out_l = multipeak_fat_model_from_guess(magnitude,water,fat,MagneticFieldStrength=MagneticFieldStrength,ti_ms=ti_ms,rician_loss=False)\n",
    "save_jpg(out_w, name=\"ours_MAGO\")\n",
    "count_percent(out_w,water,fat)"
   ]
  },
  {
   "cell_type": "code",
   "execution_count": null,
   "metadata": {},
   "outputs": [],
   "source": []
  },
  {
   "cell_type": "code",
   "execution_count": null,
   "metadata": {},
   "outputs": [],
   "source": []
  },
  {
   "cell_type": "code",
   "execution_count": null,
   "metadata": {},
   "outputs": [],
   "source": [
    "MAGORINO = \"/media/data/robert/code/image2image/papers/vibe_inversion/tests/MAGORINO/100000/water.nii.gz\"\n",
    "MAGORINO =   to_nii(MAGORINO).reorient(orientation)[s_idx:s_idx+1,:,:]\n",
    "MAGORINO = MAGORINO.get_array()[0]\n",
    "MAGORINO[MAGORINO>=772] = 772\n",
    "save_jpg(MAGORINO, name=\"MAGORINO\")"
   ]
  },
  {
   "cell_type": "code",
   "execution_count": null,
   "metadata": {},
   "outputs": [],
   "source": []
  },
  {
   "cell_type": "code",
   "execution_count": null,
   "metadata": {},
   "outputs": [],
   "source": []
  },
  {
   "cell_type": "code",
   "execution_count": null,
   "metadata": {},
   "outputs": [],
   "source": []
  }
 ],
 "metadata": {
  "kernelspec": {
   "display_name": "py3.11",
   "language": "python",
   "name": "python3"
  },
  "language_info": {
   "codemirror_mode": {
    "name": "ipython",
    "version": 3
   },
   "file_extension": ".py",
   "mimetype": "text/x-python",
   "name": "python",
   "nbconvert_exporter": "python",
   "pygments_lexer": "ipython3",
   "version": "3.11.4"
  }
 },
 "nbformat": 4,
 "nbformat_minor": 2
}
