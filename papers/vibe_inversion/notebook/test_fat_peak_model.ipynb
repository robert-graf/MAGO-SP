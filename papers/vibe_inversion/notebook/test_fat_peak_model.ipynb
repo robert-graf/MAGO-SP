{
 "cells": [
  {
   "cell_type": "markdown",
   "metadata": {},
   "source": [
    "# Magnitude-intrinsic water-fat ambiguity can be resolved with multipeak fat modeling and a multipoint search method."
   ]
  },
  {
   "cell_type": "code",
   "execution_count": null,
   "metadata": {},
   "outputs": [],
   "source": [
    "import sys\n",
    "from pathlib import Path\n",
    "\n",
    "import matplotlib.pyplot as plt\n",
    "import numpy as np\n",
    "from PIL import Image\n",
    "from TPTBox import NII, to_nii\n",
    "\n",
    "sys.path.append(\"..\")\n",
    "sys.path.append(\"../../..\")\n",
    "\n",
    "from recon_mevibe import ti_ms_default\n",
    "\n",
    "## TODO Update file paths\n",
    "# Load files\n",
    "\n",
    "# Input\n",
    "path = Path(\"/media/data/NAKO/dataset-nako/rawdata/100/100000/mevibe/\")\n",
    "s_0 = path / \"sub-100000_sequ-53_acq-ax_part-eco0-opp1_mevibe.nii.gz\"\n",
    "s_1 = path / \"sub-100000_sequ-54_acq-ax_part-eco1-pip1_mevibe.nii.gz\"\n",
    "s_2 = path / \"sub-100000_sequ-55_acq-ax_part-eco2-opp2_mevibe.nii.gz\"\n",
    "s_3 = path / \"sub-100000_sequ-56_acq-ax_part-eco3-in1_mevibe.nii.gz\"\n",
    "s_4 = path / \"sub-100000_sequ-57_acq-ax_part-eco4-pop1_mevibe.nii.gz\"\n",
    "s_5 = path / \"sub-100000_sequ-58_acq-ax_part-eco5-arb1_mevibe.nii.gz\"\n",
    "# Target output\n",
    "use_target = True\n",
    "water_file = path / \"sub-100000_sequ-59_acq-ax_part-water_mevibe.nii.gz\"\n",
    "fat_file = path / \"sub-100000_sequ-63_acq-ax_part-fat_mevibe.nii.gz\"\n",
    "r2s_file = path / \"sub-100000_sequ-61_acq-ax_part-r2s_mevibe.nii.gz\" # Note in our example we have to multiply with 0.1 to get the actual value\n",
    "\n",
    "pre = None\n"
   ]
  },
  {
   "cell_type": "code",
   "execution_count": 2,
   "metadata": {},
   "outputs": [],
   "source": [
    "\n",
    "#path = Path(\"/media/data/NAKO/dataset-nako/rawdata/101/101000/mevibe/\")\n",
    "## Input\n",
    "#s_0 = path / \"sub-101000_sequ-53_acq-ax_part-eco0-opp1_mevibe.nii.gz\"\n",
    "#s_1 = path / \"sub-101000_sequ-54_acq-ax_part-eco1-pip1_mevibe.nii.gz\"\n",
    "#s_2 = path / \"sub-101000_sequ-55_acq-ax_part-eco2-opp2_mevibe.nii.gz\"\n",
    "#s_3 = path / \"sub-101000_sequ-56_acq-ax_part-eco3-in1_mevibe.nii.gz\"\n",
    "#s_4 = path / \"sub-101000_sequ-57_acq-ax_part-eco4-pop1_mevibe.nii.gz\"\n",
    "#s_5 = path / \"sub-101000_sequ-58_acq-ax_part-eco5-arb1_mevibe.nii.gz\"\n",
    "## Target output\n",
    "#use_target = True\n",
    "#water_file = path / \"sub-101000_sequ-59_acq-ax_part-water_mevibe.nii.gz\"\n",
    "#fat_file = path / \"sub-101000_sequ-60_acq-ax_part-fat_mevibe.nii.gz\"\n",
    "#r2s_file = path / \"sub-101000_sequ-62_acq-ax_part-r2s_mevibe.nii.gz\" # Note in our example we have to multiply with 0.1 to get the actual value"
   ]
  },
  {
   "cell_type": "markdown",
   "metadata": {},
   "source": [
    "MRI parameter:\n",
    "\n",
    "- MagneticFieldStrength of the MRI device\n",
    "- time_inversion in ms in the the same order as the $s_i$. See Dicom-Header."
   ]
  },
  {
   "cell_type": "code",
   "execution_count": null,
   "metadata": {},
   "outputs": [],
   "source": [
    "ti_ms = ti_ms_default\n",
    "MagneticFieldStrength=3.0\n",
    "print(f\"{ti_ms_default= } \\n{MagneticFieldStrength= }\")"
   ]
  },
  {
   "cell_type": "code",
   "execution_count": 4,
   "metadata": {},
   "outputs": [],
   "source": [
    "\n",
    "# NOTE we select slice 30 to make the example faster.\n",
    "\n",
    "magnitude_nii:list[NII] = [to_nii(s_0),to_nii(s_1),to_nii(s_2),to_nii(s_3),to_nii(s_4),to_nii(s_5)]\n",
    "magnitude = [a.get_array()for a in magnitude_nii]\n",
    "if use_target:\n",
    "    water = to_nii(water_file)\n",
    "    fat = to_nii(fat_file)\n",
    "    r2s = to_nii(r2s_file) * 0.1"
   ]
  },
  {
   "cell_type": "code",
   "execution_count": 5,
   "metadata": {},
   "outputs": [],
   "source": [
    "folder = Path(\"test_fat_peak_model\")\n",
    "folder.mkdir(exist_ok=True)\n",
    "# Ren marrow  #5.78, 4.33, 3.82, 3.60, 3.10, 2.8, 2.4,0.49, 0.59\n",
    "# Hernando [0.50, 2.38, 2.78, 3.58, 4.24, 5.79]\n",
    "models={\n",
    "    #\"Ren marrow\":     (np.array([-3.8, -3.4, -3.1, -2.68, -2.46, -1.95, -0.5, 0.49, 0.59]), np.array([0.08991009, 0.58341658, 0.05994006, 0.08491508, 0.05994006, 0.01498501, 0.03996004, 0.00999001, 0.05694306])),\n",
    "    \"Hamilton liver\":( np.array([-3.8, -3.4, -3.1, -2.68, -2.46, -1.95, -0.5, 0.49, 0.59]), np.array([0.088, 0.642, 0.058, 0.062, 0.058, 0.006, 0.039, 0.01 , 0.037])),\n",
    "    #\"UKBB1\": (np.array([5.20, 4.21, 2.66, 2.00, 1.20, 0.80]), np.array([0.048, 0.039, 0.004, 0.128, 0.694, 0.087])),\n",
    "    #\"UKBB2\": (np.array([5.20, 4.21, 2.66, 2.00, 1.20, 0.80]), np.array([0.047, 0.039, 0.006, 0.12, 0.7, 0.088])),\n",
    "    #\"Hernando\": (np.array([-3.9, -3.5, -2.7, -2.04, -0.49, 0.50]), np.array([0.087, 0.694, 0.128, 0.004, 0.039, 0.048])),\n",
    "    #\"Graf 1\": (np.array([-3.8, -3.4, -3.1, -2.68, -2.46, -1.95, -0.5, 0.49, 0.59]),np.array([0.11764568180678654,     0.34850433163306244 ,    0.00000001429670620434,   0.12146143325770939  ,   0.10233814607814957  ,   0.2382095897092301,   0.06436118874742854,     0.00000002971640587104,  0.18383531993907087]))\n",
    "}"
   ]
  },
  {
   "cell_type": "code",
   "execution_count": null,
   "metadata": {},
   "outputs": [],
   "source": [
    "from pipeline import predict_signal_prior\n",
    "if pre is None:\n",
    "    pre = predict_signal_prior(magnitude_nii,None,gpu=0,ddevice=\"cuda\")"
   ]
  },
  {
   "cell_type": "code",
   "execution_count": null,
   "metadata": {},
   "outputs": [],
   "source": [
    "from recon_mevibe import multipeak_fat_model_from_guess\n",
    "from mago_sp import mago_sp\n",
    "\n",
    "for name,(freqs_ppm,alpha_p) in models.items():\n",
    "    for rician in [False,True]:#False\n",
    "        name2 = name + \"_r\" if rician else name\n",
    "        out_folder = folder / name2\n",
    "        if (out_folder/\"r2s.nii.gz\").exists():\n",
    "            continue\n",
    "        out_w, out_f, out_r, _ = mago_sp(magnitude,water.get_array(),fat.get_array(),MagneticFieldStrength=MagneticFieldStrength,ti_ms=ti_ms,alpha_p=alpha_p,freqs_ppm=freqs_ppm,use_rician=rician)\n",
    "        out_folder.mkdir(exist_ok=True)\n",
    "        nii = magnitude_nii[0]\n",
    "        W = nii.set_array(out_w)\n",
    "        W.save(out_folder/\"water.nii.gz\")\n",
    "        F=nii.set_array(out_f)\n",
    "        F.save(out_folder/\"fat.nii.gz\")\n",
    "        nii.set_array(out_r).save(out_folder/\"r2s.nii.gz\")\n",
    "        dif = (W - water)\n",
    "        dif2 = (F - fat)\n",
    "        print(f\"{name2:10} {'water':10} {dif.mean():>10.3f} {np.std(dif):>10.3f} {'fat':10} {dif2.mean():>10.3f} {np.std(dif2):>10.3f}\")\n"
   ]
  },
  {
   "cell_type": "code",
   "execution_count": null,
   "metadata": {},
   "outputs": [],
   "source": [
    "for name in models.keys():\n",
    "    for rician in [False,True]:\n",
    "        name2 = name + \"_r\" if rician else name\n",
    "        out_folder = folder / name2\n",
    "        W = NII.load(out_folder/\"water.nii.gz\",False)\n",
    "        W.set_dtype_()\n",
    "        F = NII.load(out_folder/\"fat.nii.gz\",False)\n",
    "        F.set_dtype_()\n",
    "        pdff = (W+F)\n",
    "        pdff[pdff == 0] = 1\n",
    "        pdff = F/pdff\n",
    "        pdff_org = (water+fat)\n",
    "        pdff_org[pdff_org == 0] = 1\n",
    "        pdff_org = fat/pdff_org\n",
    "        dif =  np.abs(W - water)\n",
    "        dif2 = np.abs(F - fat)\n",
    "        dif3 = np.abs(pdff_org - pdff)\n",
    "        wh = np.array(pdff != 0,dtype=bool)\n",
    "        print(f\"{name2:16} {'water'} {dif.mean(where=wh):>10.3f} {np.std(dif,where=wh):>10.3f} {'fat'} {dif2.mean(where=wh):>10.3f} {np.std(dif2,where=wh):>10.3f} {'pdff'} {dif3.mean(where=wh):>10.3f} {np.std(dif3,where=wh):>10.3f}\")\n"
   ]
  },
  {
   "cell_type": "code",
   "execution_count": null,
   "metadata": {},
   "outputs": [],
   "source": [
    "print(water.max())\n",
    "print(W.max())\n",
    "print((W-water).max())\n"
   ]
  },
  {
   "cell_type": "code",
   "execution_count": 11,
   "metadata": {},
   "outputs": [],
   "source": [
    "#Hamilton liver   water     10.703     18.478 fat     13.019     20.553 pdff      0.088      0.193\n",
    "#Hamilton liver_r water     21.260     44.978 fat     26.502     53.153 pdff      0.048      0.101\n"
   ]
  },
  {
   "cell_type": "code",
   "execution_count": null,
   "metadata": {},
   "outputs": [],
   "source": []
  }
 ],
 "metadata": {
  "kernelspec": {
   "display_name": "py3.11",
   "language": "python",
   "name": "python3"
  },
  "language_info": {
   "codemirror_mode": {
    "name": "ipython",
    "version": 3
   },
   "file_extension": ".py",
   "mimetype": "text/x-python",
   "name": "python",
   "nbconvert_exporter": "python",
   "pygments_lexer": "ipython3",
   "version": "3.11.4"
  }
 },
 "nbformat": 4,
 "nbformat_minor": 2
}
